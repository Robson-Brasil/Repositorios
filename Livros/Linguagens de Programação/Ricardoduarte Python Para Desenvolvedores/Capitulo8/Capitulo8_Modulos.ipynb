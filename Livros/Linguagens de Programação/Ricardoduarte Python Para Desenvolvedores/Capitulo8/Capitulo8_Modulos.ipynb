{
 "metadata": {
  "name": "Capitulo8_Modulos"
 },
 "nbformat": 3,
 "nbformat_minor": 0,
 "worksheets": [
  {
   "cells": [
    {
     "cell_type": "markdown",
     "metadata": {},
     "source": [
      "[Python para Desenvolvedores](http://ricardoduarte.github.io/python-para-desenvolvedores/#conteudo)\n",
      "===================================\n",
      "2&ordf; edi\u00e7\u00e3o, revisada e ampliada\n",
      "-----------------------------------\n",
      "\n",
      "Cap\u00edtulo 8: M\u00f3dulos\n",
      "=============================\n",
      "_____________________________\n",
      "Para o Python, m\u00f3dulos s\u00e3o arquivos fonte que podem importados para um programa. Podem conter qualquer estrutura do Python e s\u00e3o executados quando <span class=\"note\" title=\"Caso seja necess\u00e1rio executar de novo o m\u00f3dulo durante a execu\u00e7\u00e3o da aplica\u00e7\u00e3o, ele ter\u00e1 que carregado outra vez atrav\u00e9s da fun\u00e7\u00e3o reload().\">importados</span>. Eles s\u00e3o compilados quando importados pela primeira vez e armazenados em arquivo (com extens\u00e3o \u201c.pyc\u201d ou \u201c.pyo\u201d), possuem *namespace* pr\u00f3prio e aceitam *Doc Strings*. S\u00e3o objetos Singleton (\u00e9 carregada somente uma inst\u00e2ncia em mem\u00f3ria, que fica dispon\u00edvel de forma global para o programa).\n",
      "\n",
      "![M\u00f3dulos](files/bpypd_diags6.png)\n",
      "\n",
      "Os m\u00f3dulos s\u00e3o localizados pelo interpretador atrav\u00e9s da lista de pastas `PYTHONPATH`  (sys.path), que normalmente inclui a pasta corrente em primeiro lugar.\n",
      "\n",
      "Os m\u00f3dulos s\u00e3o carregados atrav\u00e9s da instru\u00e7\u00e3o `import`. Desta forma, ao usar alguma estrutura do m\u00f3dulo, \u00e9 necess\u00e1rio identificar o m\u00f3dulo. Isto \u00e9 chamado de importa\u00e7\u00e3o absoluta."
     ]
    },
    {
     "cell_type": "code",
     "collapsed": false,
     "input": [
      "import os\n",
      "print os.name"
     ],
     "language": "python",
     "metadata": {},
     "outputs": [
      {
       "output_type": "stream",
       "stream": "stdout",
       "text": [
        "posix\n"
       ]
      }
     ],
     "prompt_number": 1
    },
    {
     "cell_type": "markdown",
     "metadata": {},
     "source": [
      "Tamb\u00e9m \u00e9 poss\u00edvel importar m\u00f3dulos de forma relativa:"
     ]
    },
    {
     "cell_type": "code",
     "collapsed": false,
     "input": [
      "from os import name\n",
      "print name"
     ],
     "language": "python",
     "metadata": {},
     "outputs": [
      {
       "output_type": "stream",
       "stream": "stdout",
       "text": [
        "posix\n"
       ]
      }
     ],
     "prompt_number": 2
    },
    {
     "cell_type": "markdown",
     "metadata": {},
     "source": [
      "Por evitar problemas, como a ofusca\u00e7\u00e3o de vari\u00e1veis, a importa\u00e7\u00e3o absoluta \u00e9 considerada uma pr\u00e1tica de programa\u00e7\u00e3o melhor do que a importa\u00e7\u00e3o relativa.\n",
      "\n",
      "Exemplo de m\u00f3dulo:"
     ]
    },
    {
     "cell_type": "code",
     "collapsed": false,
     "input": [
      "# Arquivo calc.py\n",
      "\n",
      "# Fun\u00e7\u00e3o definida no m\u00f3dulo\n",
      "def media(lista):\n",
      "\n",
      "    return float(sum(lista)) / len(lista)"
     ],
     "language": "python",
     "metadata": {},
     "outputs": []
    },
    {
     "cell_type": "markdown",
     "metadata": {},
     "source": [
      "Exemplo de uso do m\u00f3dulo:"
     ]
    },
    {
     "cell_type": "code",
     "collapsed": false,
     "input": [
      "# Importa o m\u00f3dulo calc\n",
      "import calc\n",
      "\n",
      "l = [23, 54, 31, 77, 12, 34]\n",
      "\n",
      "# Chamada a fun\u00e7\u00e3o definida em calc\n",
      "print calc.media(l)"
     ],
     "language": "python",
     "metadata": {},
     "outputs": [
      {
       "output_type": "stream",
       "stream": "stdout",
       "text": [
        "38.5\n"
       ]
      }
     ],
     "prompt_number": 4
    },
    {
     "cell_type": "markdown",
     "metadata": {},
     "source": [
      "O m\u00f3dulo principal de um programa tem a vari\u00e1vel `__name__` igual \u00e0 `__main__`, ent\u00e3o \u00e9 poss\u00edvel testar se o m\u00f3dulo \u00e9 o principal usando:"
     ]
    },
    {
     "cell_type": "code",
     "collapsed": false,
     "input": [
      "if __name__ == \"__main__\":\n",
      "    # Aqui o c\u00f3digo s\u00f3 ser\u00e1 executado\n",
      "    # se este for o m\u00f3dulo principal\n",
      "    # e n\u00e3o quando ele for importado por outro programa\n",
      "    pass"
     ],
     "language": "python",
     "metadata": {},
     "outputs": [],
     "prompt_number": 6
    },
    {
     "cell_type": "markdown",
     "metadata": {},
     "source": [
      "Com isso \u00e9 f\u00e1cil transformar um programa em um m\u00f3dulo.\n",
      "\n",
      "Outro exemplo de m\u00f3dulo:"
     ]
    },
    {
     "cell_type": "code",
     "collapsed": false,
     "input": [
      "\"\"\"\n",
      "modutils => rotinas utilit\u00e1rias para m\u00f3dulos\n",
      "\"\"\"\n",
      "\n",
      "import os.path\n",
      "import sys\n",
      "import glob\n",
      "\n",
      "def find(txt):\n",
      "    \"\"\"encontra m\u00f3dulos que tem o nome\n",
      "    contendo o par\u00e2metro\n",
      "    \"\"\"\n",
      "\n",
      "    resp = []\n",
      "\n",
      "    for path in sys.path:\n",
      "        mods = glob.glob('%s/*.py' % path)\n",
      "\n",
      "        for mod in mods:\n",
      "            if txt in os.path.basename(mod):\n",
      "                resp.append(mod)\n",
      "\n",
      "    return resp"
     ],
     "language": "python",
     "metadata": {},
     "outputs": []
    },
    {
     "cell_type": "markdown",
     "metadata": {},
     "source": [
      "Exemplo de uso do m\u00f3dulo:"
     ]
    },
    {
     "cell_type": "code",
     "collapsed": false,
     "input": [
      "from os.path import getsize, getmtime\n",
      "from time import localtime, asctime\n",
      "\n",
      "import modutils\n",
      "\n",
      "mods = modutils.find('xml')\n",
      "\n",
      "for mod in mods:\n",
      "\n",
      "    tm = asctime(localtime(getmtime(mod)))\n",
      "    kb = getsize(mod) / 1024\n",
      "    print '%s: (%d kbytes, %s)' % (mod, kb, tm)"
     ],
     "language": "python",
     "metadata": {},
     "outputs": [
      {
       "output_type": "stream",
       "stream": "stdout",
       "text": [
        "/usr/lib/python2.7/xmlrpclib.py: (50 kbytes, Fri Apr 19 16:20:45 2013)\n",
        "/usr/lib/python2.7/xmllib.py: (34 kbytes, Fri Apr 19 16:20:45 2013)\n",
        "/usr/lib/python2.7/dist-packages/libxml2.py: (335 kbytes, Wed May  1 14:19:10 2013)\n",
        "/usr/lib/python2.7/dist-packages/drv_libxml2.py: (14 kbytes, Wed May  1 14:19:10 2013)\n"
       ]
      }
     ],
     "prompt_number": 7
    },
    {
     "cell_type": "markdown",
     "metadata": {},
     "source": [
      "Dividir programas em m\u00f3dulos facilita o reaproveitamento e localiza\u00e7\u00e3o de falhas no c\u00f3digo."
     ]
    },
    {
     "cell_type": "code",
     "collapsed": false,
     "input": [],
     "language": "python",
     "metadata": {},
     "outputs": [
      {
       "html": [
        "<style>\n",
        "    @font-face {\n",
        "        font-family: \"Computer Modern\";\n",
        "        src: url('http://mirrors.ctan.org/fonts/cm-unicode/fonts/otf/cmunss.otf');\n",
        "    }\n",
        "    div.cell{\n",
        "        width:800px;\n",
        "        margin-left:16% !important;\n",
        "        margin-right:auto;\n",
        "    }\n",
        "    h1 {\n",
        "        font-family: Helvetica, serif;\n",
        "    }\n",
        "    h4{\n",
        "        margin-top:12px;\n",
        "        margin-bottom: 3px;\n",
        "       }\n",
        "    div.text_cell_render{\n",
        "        font-family: Computer Modern, \"Helvetica Neue\", Arial, Helvetica, Geneva, sans-serif;\n",
        "        line-height: 145%;\n",
        "        font-size: 130%;\n",
        "        width:800px;\n",
        "        margin-left:auto;\n",
        "        margin-right:auto;\n",
        "    }\n",
        "    .CodeMirror{\n",
        "            font-family: \"Source Code Pro\", source-code-pro,Consolas, monospace;\n",
        "    }\n",
        "    .note{\n",
        "            border-bottom: 1px black dotted;\n",
        "    }\n",
        "    .prompt{\n",
        "        display: None;\n",
        "    }\n",
        "    .text_cell_render h5 {\n",
        "        font-weight: 300;\n",
        "        font-size: 16pt;\n",
        "        color: #4057A1;\n",
        "        font-style: italic;\n",
        "        margin-bottom: .5em;\n",
        "        margin-top: 0.5em;\n",
        "        display: block;\n",
        "    }\n",
        "    \n",
        "    .warning{\n",
        "        color: rgb( 240, 20, 20 )\n",
        "        }  \n",
        "</style>\n",
        "<script>\n",
        "    MathJax.Hub.Config({\n",
        "                        TeX: {\n",
        "                           extensions: [\"AMSmath.js\"]\n",
        "                           },\n",
        "                tex2jax: {\n",
        "                    inlineMath: [ ['$','$'], [\"\\\\(\",\"\\\\)\"] ],\n",
        "                    displayMath: [ ['$$','$$'], [\"\\\\[\",\"\\\\]\"] ]\n",
        "                },\n",
        "                displayAlign: 'center', // Change this to 'center' to center equations.\n",
        "                \"HTML-CSS\": {\n",
        "                    styles: {'.MathJax_Display': {\"margin\": 4}}\n",
        "                }\n",
        "        });\n",
        "</script>"
       ],
       "output_type": "pyout",
       "prompt_number": 1,
       "text": [
        "<IPython.core.display.HTML at 0x50f8f98>"
       ]
      }
     ],
     "prompt_number": 1
    }
   ],
   "metadata": {}
  }
 ]
}