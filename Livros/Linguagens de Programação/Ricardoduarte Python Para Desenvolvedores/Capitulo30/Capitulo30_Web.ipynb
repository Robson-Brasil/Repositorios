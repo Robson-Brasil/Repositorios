{
 "metadata": {
  "name": ""
 },
 "nbformat": 3,
 "nbformat_minor": 0,
 "worksheets": [
  {
   "cells": [
    {
     "cell_type": "markdown",
     "metadata": {},
     "source": [
      "[Python para Desenvolvedores](http://ricardoduarte.github.io/python-para-desenvolvedores/#conteudo)\n",
      "===================================\n",
      "2&ordf; edi\u00e7\u00e3o, revisada e ampliada\n",
      "-----------------------------------\n",
      "\n",
      "Cap\u00edtulo 29: Web\n",
      "=============================\n",
      "_____________________________\n",
      "Uma aplica\u00e7\u00e3o Web \u00e9 uma aplica\u00e7\u00e3o cliente-servidor aonde o cliente \u00e9 o *browser* (como o Mozilla Firefox) e o protocolo utilizado para a comunica\u00e7\u00e3o com o servidor \u00e9 chamado *Hypertext Transfer Protocol* (HTTP), tecnologias que servem de base para a *World Wide Web* (WWW), as p\u00e1ginas de hipertexto que fazem parte da internet. Tais p\u00e1ginas seguem as conven\u00e7\u00f5es da linguagem [HyperText Markup Language](http://www.w3.org/MarkUp/) (HTML).\n",
      "\n",
      "![Aplica\u00e7\u00e3o Web](files/bpypd_diags26.png)\n",
      "\n",
      "As aplica\u00e7\u00f5es Web geram as p\u00e1ginas HTML dinamicamente, atendendo as requisi\u00e7\u00f5es enviadas pelo *browser*. Se constru\u00eddas da forma adequada, estas aplica\u00e7\u00f5es podem ser acessadas em v\u00e1rios ambientes diferentes, de computadores pessoais, at\u00e9 PDAs e celulares.\n",
      "\n",
      "Existem muitos frameworks para facilitar o desenvolvimento de aplicativos Web em Python, entre eles, o CherryPy e o CherryTemplate.\n",
      "\n",
      "CherryPy\n",
      "--------\n",
      "[CherryPy](http://www.cherrypy.org/) \u00e9 um *framework* para aplica\u00e7\u00f5es Web que publica objetos, convertendo URLs em chamadas para os m\u00e9todos dos objetos publicados. Com o CherryPy, o programa passa a se comportar como um servidor Web, respondendo a requisi\u00e7\u00f5es GET e POST.\n",
      "\n",
      "Exemplo com CherryPy:"
     ]
    },
    {
     "cell_type": "code",
     "collapsed": false,
     "input": [
      "import cherrypy\n",
      "\n",
      "class Root(object):\n",
      "\n",
      "    @cherrypy.expose\n",
      "    def index(self):\n",
      "\n",
      "        return 'Hello World!'\n",
      "\n",
      "cherrypy.quickstart(Root())"
     ],
     "language": "python",
     "metadata": {},
     "outputs": [
      {
       "output_type": "stream",
       "stream": "stderr",
       "text": [
        "[16/Aug/2013:10:41:47] ENGINE Listening for SIGHUP.\n"
       ]
      },
      {
       "output_type": "stream",
       "stream": "stderr",
       "text": [
        "[16/Aug/2013:10:41:47] ENGINE Listening for SIGTERM.\n"
       ]
      },
      {
       "output_type": "stream",
       "stream": "stderr",
       "text": [
        "[16/Aug/2013:10:41:47] ENGINE Listening for SIGUSR1.\n"
       ]
      },
      {
       "output_type": "stream",
       "stream": "stderr",
       "text": [
        "[16/Aug/2013:10:41:47] ENGINE Bus STARTING\n"
       ]
      },
      {
       "output_type": "stream",
       "stream": "stderr",
       "text": [
        "CherryPy Checker:\n",
        "The Application mounted at '' has an empty config.\n",
        "\n",
        "[16/Aug/2013:10:41:47] ENGINE Started monitor thread 'Autoreloader'.\n"
       ]
      },
      {
       "output_type": "stream",
       "stream": "stderr",
       "text": [
        "[16/Aug/2013:10:41:47] ENGINE Started monitor thread '_TimeoutMonitor'.\n"
       ]
      },
      {
       "output_type": "stream",
       "stream": "stderr",
       "text": [
        "[16/Aug/2013:10:41:47] ENGINE Serving on 127.0.0.1:8080\n"
       ]
      },
      {
       "output_type": "stream",
       "stream": "stderr",
       "text": [
        "[16/Aug/2013:10:41:47] ENGINE Bus STARTED\n"
       ]
      }
     ],
     "prompt_number": "*"
    },
    {
     "cell_type": "markdown",
     "metadata": {},
     "source": [
      "O decorador `@expose` indica quais m\u00e9todos s\u00e3o publicados via Web. O retorno do m\u00e9todo \u00e9 uma *string*, que \u00e9 enviada para o browser.\n",
      "\n",
      "O endere\u00e7o padr\u00e3o do servidor \u00e9 http://localhost:8080/.\n",
      "\n",
      "CherryTemplate\n",
      "--------------\n",
      "[CherryTemplate](http://cherrytemplate.python-hosting.com/) \u00e9 um m\u00f3dulo de processamento de modelos (templates) para Python. Era parte integrante do CherryPy, mas hoje \u00e9 distribu\u00eddo como um pacote separado.\n",
      "\n",
      "Marcadores dispon\u00edveis no CherryTemplate:\n",
      "\n",
      "+ `py-eval`: avalia uma express\u00e3o em Python e insere o resultado (que deve ser uma *string*) no texto.\n",
      "\n",
      "Exemplo:\n",
      "\n",
      "    Somat\u00f3rio de 1 a 10 \u00e9 <py-eval=\"str(sum(range(1, 11)))\">\n",
      "\n",
      "+ `py-exec`: executa uma linha de c\u00f3digo Python.\n",
      "\n",
      "Exemplo:\n",
      "\n",
      "    <py-exec=\"import platform\">\n",
      "    O sistema \u00e9 <py-eval=\"platform.platform()\">\n",
      "\n",
      "+ `py-code`: executa um bloco de c\u00f3digo Python.\n",
      "        \n",
      "Exemplo:\n",
      "\n",
      "    <py-code=\"\n",
      "    import platform\n",
      "    sistema = platform.platform()\n",
      "    \">\n",
      "    <py-eval=\"sistema\">\n",
      "\n",
      "+ `py-if / py-else`: funciona como o par *if / else* em Python.\n",
      "        \n",
      "Exemplo:\n",
      "\n",
      "    <py-if=\"1 > 10\">\n",
      "        Algo errado...\n",
      "    </py-if><py-else>\n",
      "        Correto!\n",
      "    </py-else>\n",
      "        \n",
      "+ `py-for`: funciona como o la\u00e7o for em Python.\n",
      "\n",
      "Exemplo:\n",
      "\n",
      "    <py-for=\"x in range(1, 11)\">\n",
      "        <py-eval=\"str(x)\"> ** 2 = <py-eval=\"str(x ** 2)\"><br>\n",
      "    </py-for>\n",
      "    \n",
      "+ `py-include`: inclui um arquivo externo no template.\n",
      "\n",
      "Exemplo:\n",
      "\n",
      "    <py-include=\"header.html\">\n",
      "    Corpo da p\u00e1gina...\n",
      "    <py-include=\"footer.html\">\n",
      "    \n",
      "Al\u00e9m de usar uma *string* como *template*, \u00e9 poss\u00edvel guardar o *template* em um arquivo:\n",
      "\n",
      "    renderTemplate(file='index.html')\n",
      "    \n",
      "Exemplo com *CherryTemplate*:"
     ]
    },
    {
     "cell_type": "code",
     "collapsed": false,
     "input": [
      "from cherrytemplate import renderTemplate\n",
      "\n",
      "progs = ['Yes', 'Genesis', 'King Crimson']\n",
      "\n",
      "template = '<html>\\n<body>\\n'\\\n",
      "'<py-for=\"prog in progs\">'\\\n",
      "'    <py-eval=\"prog\"><br>\\n'\\\n",
      "'</py-for>'\\\n",
      "'</body>\\n</html>\\n'\n",
      "\n",
      "print renderTemplate(template)"
     ],
     "language": "python",
     "metadata": {},
     "outputs": [
      {
       "output_type": "stream",
       "stream": "stdout",
       "text": [
        "<html>\n",
        "<body>\n",
        "    Yes<br>\n",
        "    Genesis<br>\n",
        "    King Crimson<br>\n",
        "</body>\n",
        "</html>\n",
        "\n"
       ]
      }
     ],
     "prompt_number": 1
    },
    {
     "cell_type": "markdown",
     "metadata": {},
     "source": [
      "As sa\u00eddas geradas pelo CherryTemplate podem ser publicadas pelo CherryPy.\n",
      "\n",
      "Cliente Web\n",
      "-----------\n",
      "O Python tamb\u00e9m pode funcionar do lado cliente, atrav\u00e9s do m\u00f3dulo *urllib*.\n",
      "\n",
      "Exemplo:"
     ]
    },
    {
     "cell_type": "code",
     "collapsed": false,
     "input": [
      "import urllib\n",
      "\n",
      "# Abre a URL e fornece um objeto semelhante\n",
      "# a um arquivo convencional\n",
      "url = urllib.urlopen('http://ark4n.wordpress.com/')\n",
      "\n",
      "# L\u00ea a p\u00e1gina\n",
      "html = url.read()\n",
      "\n",
      "#html = '<a href=\"http://www.gnu.org/\">'\n",
      "found = html.find('href=', 0)\n",
      "\n",
      "# find retorna -1 se n\u00e3o encontra\n",
      "while found >= 0:\n",
      "\n",
      "    # O fim do link (quando as aspas acabam)\n",
      "    end = html.find(html[found + 5], found + 6) + 1\n",
      "\n",
      "    # Mostra o link\n",
      "    print html[found:end]\n",
      "\n",
      "    # Passa para o pr\u00f3ximo link\n",
      "    found = html.find('href=', found + 1)"
     ],
     "language": "python",
     "metadata": {},
     "outputs": [],
     "prompt_number": 2
    },
    {
     "cell_type": "markdown",
     "metadata": {},
     "source": [
      "Outra solu\u00e7\u00e3o cliente \u00e9 o [Twisted Web](http://twistedmatrix.com/trac/wiki/TwistedWeb), que \u00e9 parte do projeto [Twisted](http://twistedmatrix.com/trac/), um framework orientado a eventos voltado para protocolos de rede, incluindo HTTP, SSH, IRC, IMAP e outros."
     ]
    },
    {
     "cell_type": "code",
     "collapsed": false,
     "input": [],
     "language": "python",
     "metadata": {},
     "outputs": [
      {
       "html": [
        "<style>\n",
        "    @font-face {\n",
        "        font-family: \"Computer Modern\";\n",
        "        src: url('http://mirrors.ctan.org/fonts/cm-unicode/fonts/otf/cmunss.otf');\n",
        "    }\n",
        "    div.cell{\n",
        "        width:800px;\n",
        "        margin-left:16% !important;\n",
        "        margin-right:auto;\n",
        "    }\n",
        "    h1 {\n",
        "        font-family: Helvetica, serif;\n",
        "    }\n",
        "    h4{\n",
        "        margin-top:12px;\n",
        "        margin-bottom: 3px;\n",
        "       }\n",
        "    div.text_cell_render{\n",
        "        font-family: Computer Modern, \"Helvetica Neue\", Arial, Helvetica, Geneva, sans-serif;\n",
        "        line-height: 145%;\n",
        "        font-size: 130%;\n",
        "        width:800px;\n",
        "        margin-left:auto;\n",
        "        margin-right:auto;\n",
        "    }\n",
        "    .CodeMirror{\n",
        "            font-family: \"Source Code Pro\", source-code-pro,Consolas, monospace;\n",
        "    }\n",
        "    .note{\n",
        "            border-bottom: 1px black dotted;\n",
        "    }\n",
        "    .prompt{\n",
        "        display: None;\n",
        "    }\n",
        "    .text_cell_render h5 {\n",
        "        font-weight: 300;\n",
        "        font-size: 16pt;\n",
        "        color: #4057A1;\n",
        "        font-style: italic;\n",
        "        margin-bottom: .5em;\n",
        "        margin-top: 0.5em;\n",
        "        display: block;\n",
        "    }\n",
        "    \n",
        "    .warning{\n",
        "        color: rgb( 240, 20, 20 )\n",
        "        }  \n",
        "</style>\n",
        "<script>\n",
        "    MathJax.Hub.Config({\n",
        "                        TeX: {\n",
        "                           extensions: [\"AMSmath.js\"]\n",
        "                           },\n",
        "                tex2jax: {\n",
        "                    inlineMath: [ ['$','$'], [\"\\\\(\",\"\\\\)\"] ],\n",
        "                    displayMath: [ ['$$','$$'], [\"\\\\[\",\"\\\\]\"] ]\n",
        "                },\n",
        "                displayAlign: 'center', // Change this to 'center' to center equations.\n",
        "                \"HTML-CSS\": {\n",
        "                    styles: {'.MathJax_Display': {\"margin\": 4}}\n",
        "                }\n",
        "        });\n",
        "</script>"
       ],
       "output_type": "pyout",
       "prompt_number": 1,
       "text": [
        "<IPython.core.display.HTML at 0x50f8f98>"
       ]
      }
     ],
     "prompt_number": 1
    }
   ],
   "metadata": {}
  }
 ]
}