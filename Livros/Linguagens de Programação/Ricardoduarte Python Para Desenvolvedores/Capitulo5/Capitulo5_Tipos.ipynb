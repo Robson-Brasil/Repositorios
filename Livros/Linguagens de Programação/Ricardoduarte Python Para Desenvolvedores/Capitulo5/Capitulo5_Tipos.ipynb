{
 "metadata": {
  "name": ""
 },
 "nbformat": 3,
 "nbformat_minor": 0,
 "worksheets": [
  {
   "cells": [
    {
     "cell_type": "markdown",
     "metadata": {},
     "source": [
      "[Python para Desenvolvedores](http://ricardoduarte.github.io/python-para-desenvolvedores/#conteudo)\n",
      "===================================\n",
      "2&ordf; edi\u00e7\u00e3o, revisada e ampliada\n",
      "-----------------------------------\n",
      "\n",
      "Cap\u00edtulo 5: Tipos\n",
      "=============================\n",
      "_____________________________\n",
      "Vari\u00e1veis no interpretador Python s\u00e3o criadas atrav\u00e9s da atribui\u00e7\u00e3o e destru\u00eddas pelo coletor de lixo (garbage collector), quando n\u00e3o existem mais refer\u00eancias a elas.\n",
      "\n",
      "Os nomes das vari\u00e1veis devem come\u00e7ar com letra (sem acentua\u00e7\u00e3o) ou sublinhado (_) e seguido por letras (sem acentua\u00e7\u00e3o), d\u00edgitos ou sublinhados (_), sendo que mai\u00fasculas e min\u00fasculas s\u00e3o consideradas diferentes.\n",
      "\n",
      "Existem v\u00e1rios tipos simples de dados pr\u00e9-definidos no Python, tais como:\n",
      "\n",
      "+ N\u00fameros (inteiros, reais, complexos, ... )\n",
      "+ Texto\n",
      "\n",
      "Al\u00e9m disso, existem tipos que funcionam como cole\u00e7\u00f5es. Os principais s\u00e3o:\n",
      "\n",
      "+ Lista\n",
      "+ Tupla\n",
      "+ Dicion\u00e1rio\n",
      "\n",
      "Os tipos no Python podem ser:\n",
      "\n",
      "+ Mut\u00e1veis: permitem que os conte\u00fados das vari\u00e1veis sejam alterados.\n",
      "+ Imut\u00e1veis: n\u00e3o permitem que os conte\u00fados das vari\u00e1veis sejam alterados.\n",
      "\n",
      "Em Python, os nomes de vari\u00e1veis s\u00e3o refer\u00eancias, que podem ser alteradas em tempos de execu\u00e7\u00e3o.\n",
      "\n",
      "Os tipos e rotinas mais comuns est\u00e3o implementados na forma de *builtins*, ou seja, eles est\u00e3o sempre dispon\u00edveis em tempo de execu\u00e7\u00e3o, sem a necessidade de importar nenhuma biblioteca.\n",
      "\n",
      "N\u00fameros\n",
      "-------\n",
      "Python oferece alguns tipos num\u00e9ricos na forma de *builtins*:\n",
      "\n",
      "+ Inteiro (*int*): i = 1\n",
      "+ Real de ponto flutuante (*float*): f = 3.14\n",
      "+ Complexo (*complex*): c = 3 + 4j\n",
      "\n",
      "Al\u00e9m dos n\u00fameros inteiros convencionais, existem tamb\u00e9m os inteiros longos, que tem dimens\u00e3o arbitr\u00e1ria e s\u00e3o limitados pela mem\u00f3ria dispon\u00edvel. As convers\u00f5es entre inteiro e longo s\u00e3o realizadas de forma autom\u00e1tica. A fun\u00e7\u00e3o *builtin int()* pode ser usada para converter outros tipos para inteiro, incluindo mudan\u00e7as de base.\n",
      "\n",
      "Exemplo:"
     ]
    },
    {
     "cell_type": "code",
     "collapsed": false,
     "input": [
      "# Convertendo de real para inteiro\n",
      "print 'int(3.14) =', int(3.14)\n",
      "\n",
      "# Convertendo de inteiro para real\n",
      "print 'float(5) =', float(5)\n",
      "\n",
      "# Calculo entre inteiro e real resulta em real\n",
      "print '5.0 / 2 + 3 = ', 5.0 / 2 + 3\n",
      "\n",
      "# Inteiros em outra base\n",
      "print \"int('20', 8) =\", int('20', 8) # base 8\n",
      "print \"int('20', 16) =\", int('20', 16) # base 16\n",
      "\n",
      "# Opera\u00e7\u00f5es com n\u00fameros complexos\n",
      "c = 3 + 4j\n",
      "print 'c =', c\n",
      "print 'Parte real:', c.real\n",
      "print 'Parte imagin\u00e1ria:', c.imag\n",
      "print 'Conjugado:', c.conjugate()"
     ],
     "language": "python",
     "metadata": {},
     "outputs": [
      {
       "output_type": "stream",
       "stream": "stdout",
       "text": [
        "int(3.14) = 3\n",
        "float(5) = 5.0\n",
        "5.0 / 2 + 3 =  5.5\n",
        "int('20', 8) = 16\n",
        "int('20', 16) = 32\n",
        "c = (3+4j)\n",
        "Parte real: 3.0\n",
        "Parte imagin\u00e1ria: 4.0\n",
        "Conjugado: (3-4j)\n"
       ]
      }
     ],
     "prompt_number": 1
    },
    {
     "cell_type": "markdown",
     "metadata": {},
     "source": [
      "Os n\u00fameros reais tamb\u00e9m podem ser representados em nota\u00e7\u00e3o cientifica, por exemplo: 1.2e22.\n",
      "\n",
      "O Python tem uma s\u00e9rie de operadores definidos para manipular n\u00fameros, atrav\u00e9s de c\u00e1lculos aritm\u00e9ticos, opera\u00e7\u00f5es l\u00f3gicas (que testam se uma determina condi\u00e7\u00e3o \u00e9 verdadeira ou falsa) ou processamento bit-a-bit (em que os n\u00fameros s\u00e3o tratados na forma bin\u00e1ria).\n",
      "\n",
      "Opera\u00e7\u00f5es aritm\u00e9ticas:\n",
      "\n",
      "+ Soma (+)\n",
      "+ Diferen\u00e7a (-)\n",
      "+ Multiplica\u00e7\u00e3o (*)\n",
      "+ Divis\u00e3o (/): entre dois inteiros funciona igual \u00e0 divis\u00e3o inteira. Em outros casos, o resultado \u00e9 real.\n",
      "+ Divis\u00e3o inteira (//): o resultado \u00e9 truncado para o inteiro imediatamente inferior, mesmo quando aplicado em n\u00fameros reais, por\u00e9m neste caso o resultado ser\u00e1 real tamb\u00e9m.\n",
      "+ M\u00f3dulo (%): retorna o resto da divis\u00e3o.\n",
      "+ Pot\u00eancia (\\*\\*): pode ser usada para calcular a raiz, atrav\u00e9s de expoentes fracion\u00e1rios (exemplo: `100 ** 0.5`).\n",
      "+ Positivo (+)\n",
      "+ Negativo (-)\n",
      "\n",
      "Opera\u00e7\u00f5es l\u00f3gicas:\n",
      "\n",
      "+ Menor (<)\n",
      "+ Maior (>)\n",
      "+ Menor ou igual (<=)\n",
      "+ Maior ou igual (>=)\n",
      "+ Igual (==)\n",
      "+ Diferente (!=)\n",
      "\n",
      "Opera\u00e7\u00f5es bit-a-bit:\n",
      "\n",
      "+ Deslocamento para esquerda (<<)\n",
      "+ Deslocamento para direita (>>)\n",
      "+ E bit-a-bit (&)\n",
      "+ Ou bit-a-bit (|)\n",
      "+ Ou exclusivo bit-a-bit (^)\n",
      "+ Invers\u00e3o (~)\n",
      "\n",
      "Durante as opera\u00e7\u00f5es, os n\u00fameros ser\u00e3o convertidos de forma adequada (exemplo: (1.5+4j) + 3 resulta em 4.5+4j).\n",
      "\n",
      "Al\u00e9m dos operadores, tamb\u00e9m existem algumas fun\u00e7\u00f5es *builtin* para lidar com tipos num\u00e9ricos: `abs()`, que retorna o valor absoluto do n\u00famero, `oct()`, que converte para octal, `hex()`, que converte para hexadecimal, `pow()`, que eleva um n\u00famero por outro e `round()`, que retorna um n\u00famero real com o arredondamento especificado.\n",
      "\n",
      "Texto\n",
      "-----\n",
      "As *strings* no Python s\u00e3o *builtins* para armazenar texto. Como s\u00e3o imut\u00e1veis, n\u00e3o \u00e9 poss\u00edvel adicionar, remover ou mesmo modificar algum caractere de uma *string*. Para realizar essas opera\u00e7\u00f5es, o Python precisa criar um nova *string*.\n",
      "\n",
      "Tipos:\n",
      "\n",
      "+ String padr\u00e3o: `s = 'Led Zeppelin'`\n",
      "+ String unicode: `u = u'Bj\u00f6rk'`\n",
      "\n",
      "A *string* padr\u00e3o pode ser convertida para *unicode* atrav\u00e9s da fun\u00e7\u00e3o `unicode()`.\n",
      "\n",
      "A inicializa\u00e7\u00e3o de strings pode ser:\n",
      "\n",
      "+ Com aspas simples ou duplas.\n",
      "+ Em v\u00e1rias linhas consecutivas, desde que seja entre tr\u00eas aspas simples ou duplas.\n",
      "+ Sem expans\u00e3o de caracteres (exemplo: `s = r'\\n'`, em que `s` conter\u00e1 os caracteres `\\` e `n`).\n",
      "\n",
      "Opera\u00e7\u00f5es com *strings*:"
     ]
    },
    {
     "cell_type": "code",
     "collapsed": false,
     "input": [
      "s = 'Camel'\n",
      "\n",
      "# Concatena\u00e7\u00e3o\n",
      "print 'The ' + s + ' run away!'\n",
      "\n",
      "# Interpola\u00e7\u00e3o\n",
      "print 'tamanho de %s => %d' % (s, len(s))\n",
      "\n",
      "# String tratada como sequ\u00eancia\n",
      "for ch in s: print ch\n",
      "\n",
      "# Strings s\u00e3o objetos\n",
      "if s.startswith('C'): print s.upper()\n",
      "\n",
      "# o que acontecer\u00e1?\n",
      "print 3 * s\n",
      "# 3 * s \u00e9 consistente com s + s + s"
     ],
     "language": "python",
     "metadata": {},
     "outputs": [
      {
       "output_type": "stream",
       "stream": "stdout",
       "text": [
        "The Camel run away!\n",
        "tamanho de Camel => 5\n",
        "C\n",
        "a\n",
        "m\n",
        "e\n",
        "l\n",
        "CAMEL\n",
        "CamelCamelCamel\n"
       ]
      }
     ],
     "prompt_number": 2
    },
    {
     "cell_type": "markdown",
     "metadata": {},
     "source": [
      "Operador `%` \u00e9 usado para fazer interpola\u00e7\u00e3o de strings. A interpola\u00e7\u00e3o \u00e9 mais eficiente no uso de mem\u00f3ria do que a concatena\u00e7\u00e3o convencional.\n",
      "\n",
      "S\u00edmbolos usados na interpola\u00e7\u00e3o:\n",
      "\n",
      "+ %s: *string*.\n",
      "+ %d: inteiro.\n",
      "+ %o: octal.\n",
      "+ %x: hexacimal.\n",
      "+ %f: real.\n",
      "+ %e: real exponencial.\n",
      "+ %%: sinal de percentagem.\n",
      "\n",
      "Os s\u00edmbolos podem ser usados para apresentar n\u00fameros em diversos formatos.\n",
      "\n",
      "Exemplo:"
     ]
    },
    {
     "cell_type": "code",
     "collapsed": false,
     "input": [
      "# Zeros a esquerda\n",
      "print 'Agora s\u00e3o %02d:%02d.' % (16, 30)\n",
      "\n",
      "# Real (n\u00famero ap\u00f3s o ponto controla as casas decimais)\n",
      "print 'Percentagem: %.1f%%, Exponencial:%.2e' % (5.333, 0.00314)\n",
      "\n",
      "# Octal e hexadecimal\n",
      "print 'Decimal: %d, Octal: %o, Hexadecimal: %x' % (10, 10, 10)"
     ],
     "language": "python",
     "metadata": {},
     "outputs": [
      {
       "output_type": "stream",
       "stream": "stdout",
       "text": [
        "Agora s\u00e3o 16:30.\n",
        "Percentagem: 5.3%, Exponencial:3.14e-03\n",
        "Decimal: 10, Octal: 12, Hexadecimal: a\n"
       ]
      }
     ],
     "prompt_number": 3
    },
    {
     "cell_type": "markdown",
     "metadata": {},
     "source": [
      "A partir da vers\u00e3o 2.6, est\u00e1 dispon\u00edvel outra forma de interpola\u00e7\u00e3o al\u00e9m do operador `%`, o m\u00e9todo de *string* e a fun\u00e7\u00e3o chamados `format()`.\n",
      "\n",
      "Exemplos:"
     ]
    },
    {
     "cell_type": "code",
     "collapsed": false,
     "input": [
      "musicos = [('Page', 'guitarrista', 'Led Zeppelin'),\n",
      "('Fripp', 'guitarrista', 'King Crimson')]\n",
      "\n",
      "# Par\u00e2metros identificados pela ordem\n",
      "msg = '{0} \u00e9 {1} do {2}'\n",
      "\n",
      "for nome, funcao, banda in musicos:\n",
      "    print(msg.format(nome, funcao, banda))\n",
      "\n",
      "# Par\u00e2metros identificados pelo nome\n",
      "msg = '{saudacao}, s\u00e3o {hora:02d}:{minuto:02d}'\n",
      "\n",
      "print msg.format(saudacao='Bom dia', hora=7, minuto=30)\n",
      "\n",
      "# Fun\u00e7\u00e3o builtin format()\n",
      "print 'Pi =', format(3.14159, '.3e')"
     ],
     "language": "python",
     "metadata": {},
     "outputs": [
      {
       "output_type": "stream",
       "stream": "stdout",
       "text": [
        "Page \u00e9 guitarrista do Led Zeppelin\n",
        "Fripp \u00e9 guitarrista do King Crimson\n",
        "Bom dia, s\u00e3o 07:30\n",
        "Pi = 3.142e+00\n"
       ]
      }
     ],
     "prompt_number": 5
    },
    {
     "cell_type": "markdown",
     "metadata": {},
     "source": [
      "A fun\u00e7\u00e3o `format()` pode ser usada para formatar apenas um dado de cada vez.\n",
      "\n",
      "Fatias (*slices*) de *strings* podem ser obtidas colocando \u00edndices entre colchetes ap\u00f3s a *string*.\n",
      "\n",
      "![Fatiando strings](files/bpypd_diags4.png)\n",
      "\n",
      "Os \u00edndices no Python:\n",
      "\n",
      "+ Come\u00e7am em zero.\n",
      "+ Contam a partir do fim se forem negativos.\n",
      "+ Podem ser definidos como trechos, na forma `[inicio:fim + 1:intervalo]`. Se n\u00e3o for definido o inicio, ser\u00e1 considerado como zero.  Se n\u00e3o for definido o fim + 1, ser\u00e1 considerado o tamanho do objeto. O intervalo (entre os caracteres), se n\u00e3o for definido, ser\u00e1 1.\n",
      "\n",
      "\u00c9 poss\u00edvel inverter *strings* usando um intervalo negativo:"
     ]
    },
    {
     "cell_type": "code",
     "collapsed": false,
     "input": [
      "print 'Python'[::-1]\n",
      "# Mostra: nohtyP"
     ],
     "language": "python",
     "metadata": {},
     "outputs": [
      {
       "output_type": "stream",
       "stream": "stdout",
       "text": [
        "nohtyP\n"
       ]
      }
     ],
     "prompt_number": 6
    },
    {
     "cell_type": "markdown",
     "metadata": {},
     "source": [
      "V\u00e1rias fun\u00e7\u00f5es para tratar com texto est\u00e3o implementadas no m\u00f3dulo *string*."
     ]
    },
    {
     "cell_type": "code",
     "collapsed": false,
     "input": [
      "# importando o m\u00f3dulo string\n",
      "import string\n",
      "\n",
      "# O alfabeto\n",
      "a = string.ascii_letters\n",
      "\n",
      "# Rodando o alfabeto um caractere para a esquerda\n",
      "b = a[1:] + a[0]\n",
      "\n",
      "# A fun\u00e7\u00e3o maketrans() cria uma tabela de tradu\u00e7\u00e3o\n",
      "# entre os caracteres das duas strings que ela\n",
      "# recebeu como par\u00e2metro.\n",
      "# Os caracteres ausentes nas tabelas ser\u00e3o\n",
      "# copiados para a sa\u00edda.\n",
      "tab = string.maketrans(a, b)\n",
      "\n",
      "# A mensagem...\n",
      "msg = '''Esse texto ser\u00e1 traduzido..\n",
      "Vai ficar bem estranho.\n",
      "'''\n",
      "# A fun\u00e7\u00e3o translate() usa a tabela de tradu\u00e7\u00e3o\n",
      "# criada pela maketrans() para traduzir uma string\n",
      "print string.translate(msg, tab)"
     ],
     "language": "python",
     "metadata": {},
     "outputs": [
      {
       "output_type": "stream",
       "stream": "stdout",
       "text": [
        "Fttf ufyup tfs\u00e1 usbevAjep..\n",
        "Wbj gjdbs cfn ftusboip.\n",
        "\n"
       ]
      }
     ],
     "prompt_number": 7
    },
    {
     "cell_type": "markdown",
     "metadata": {},
     "source": [
      "O m\u00f3dulo tamb\u00e9m implementa um tipo chamado *Template*, que \u00e9 um modelo de *string* que pode ser preenchido atrav\u00e9s de um dicion\u00e1rio. Os identificadores s\u00e3o inciados por cifr\u00e3o ($) e podem ser cercados por chaves, para evitar confus\u00f5es.\n",
      "\n",
      "Exemplo:"
     ]
    },
    {
     "cell_type": "code",
     "collapsed": false,
     "input": [
      "# importando o m\u00f3dulo string\n",
      "import string\n",
      "\n",
      "# Cria uma string template\n",
      "st = string.Template('$aviso aconteceu em $quando')\n",
      "\n",
      "# Preenche o modelo com um dicion\u00e1rio\n",
      "s = st.substitute({'aviso': 'Falta de eletricidade',\n",
      "    'quando': '03 de Abril de 2002'})\n",
      "\n",
      "# Mostra:\n",
      "# Falta de eletricidade aconteceu em 03 de Abril de 2002\n",
      "print s"
     ],
     "language": "python",
     "metadata": {},
     "outputs": [
      {
       "output_type": "stream",
       "stream": "stdout",
       "text": [
        "Falta de eletricidade aconteceu em 03 de Abril de 2002\n"
       ]
      }
     ],
     "prompt_number": 8
    },
    {
     "cell_type": "markdown",
     "metadata": {},
     "source": [
      "\u00c9 poss\u00edvel usar *strings* mut\u00e1veis no Python, atrav\u00e9s do m\u00f3dulo *UserString*, que define o tipo *MutableString*:"
     ]
    },
    {
     "cell_type": "code",
     "collapsed": false,
     "input": [
      "# importando o m\u00f3dulo UserString\n",
      "import UserString\n",
      "\n",
      "s = UserString.MutableString('Python')\n",
      "s[0] = 'p'\n",
      "\n",
      "print s # mostra \"python\""
     ],
     "language": "python",
     "metadata": {},
     "outputs": [
      {
       "output_type": "stream",
       "stream": "stdout",
       "text": [
        "python\n"
       ]
      }
     ],
     "prompt_number": 9
    },
    {
     "cell_type": "markdown",
     "metadata": {},
     "source": [
      "*Strings* mut\u00e1veis s\u00e3o menos eficientes do que *strings* imut\u00e1veis, pois s\u00e3o mais complexas (em termos de estrutura), o que se reflete em maior consumo de recursos (CPU e mem\u00f3ria).\n",
      "\n",
      "As strings *unicode* podem convertidas para strings convencionais atrav\u00e9s do m\u00e9todo decode() e o caminho inverso pode ser feito pelo m\u00e9todo `encode()`.\n",
      "\n",
      "Exemplo:"
     ]
    },
    {
     "cell_type": "code",
     "collapsed": false,
     "input": [
      "# String unicode\n",
      "u = u'H\u00fcsker D\u00fc'\n",
      "# Convertendo para str\n",
      "s = u.encode('latin1')\n",
      "print s, '=>', type(s)\n",
      "\n",
      "# String str\n",
      "s = 'H\u00fcsker D\u00fc'\n",
      "u = s.decode('latin1')\n",
      "\n",
      "print repr(u), '=>', type(u)"
     ],
     "language": "python",
     "metadata": {},
     "outputs": [
      {
       "output_type": "stream",
       "stream": "stdout",
       "text": [
        "H\ufffdsker D\ufffd => <type 'str'>\n",
        "u'H\\xc3\\xbcsker D\\xc3\\xbc' => <type 'unicode'>\n"
       ]
      }
     ],
     "prompt_number": 10
    },
    {
     "cell_type": "markdown",
     "metadata": {},
     "source": [
      "Para usar os dois m\u00e9todos, \u00e9 necess\u00e1rio passar como argumento a codifica\u00e7\u00e3o compat\u00edvel, as mais utilizadas com a l\u00edngua portuguesa s\u00e3o \u201clatin1\u201d e \u201cutf8\u201d.\n",
      "\n",
      "Listas\n",
      "------\n",
      "Listas s\u00e3o cole\u00e7\u00f5es heterog\u00eaneas de objetos, que podem ser de qualquer tipo, inclusive outras listas.\n",
      "\n",
      "As listas no Python s\u00e3o mut\u00e1veis, podendo ser alteradas a qualquer momento. Listas podem ser fatiadas da mesma forma que as *strings*, mas como as listas s\u00e3o mut\u00e1veis, \u00e9 poss\u00edvel fazer atribui\u00e7\u00f5es a itens da lista.\n",
      "\n",
      "Sintaxe:\n",
      "\n",
      "    lista = [a, b, ..., z]\n",
      "\n",
      "Opera\u00e7\u00f5es comuns com listas:"
     ]
    },
    {
     "cell_type": "code",
     "collapsed": false,
     "input": [
      "# Uma nova lista: Brit Progs dos anos 70\n",
      "progs = ['Yes', 'Genesis', 'Pink Floyd', 'ELP']\n",
      "\n",
      "# Varrendo a lista inteira\n",
      "for prog in progs:\n",
      "    print prog\n",
      "\n",
      "# Trocando o \u00faltimo elemento\n",
      "progs[-1] = 'King Crimson'\n",
      "\n",
      "# Incluindo\n",
      "progs.append('Camel')\n",
      "\n",
      "# Removendo\n",
      "progs.remove('Pink Floyd')\n",
      "\n",
      "# Ordena a lista\n",
      "progs.sort()\n",
      "\n",
      "# Inverte a lista\n",
      "progs.reverse()\n",
      "\n",
      "# Imprime numerado\n",
      "for i, prog in enumerate(progs):\n",
      "    print i + 1, '=>', prog\n",
      "\n",
      "# Imprime do segundo item em diante\n",
      "print progs[1:]"
     ],
     "language": "python",
     "metadata": {},
     "outputs": [
      {
       "output_type": "stream",
       "stream": "stdout",
       "text": [
        "Yes\n",
        "Genesis\n",
        "Pink Floyd\n",
        "ELP\n",
        "1 => Yes\n",
        "2 => King Crimson\n",
        "3 => Genesis\n",
        "4 => Camel\n",
        "['King Crimson', 'Genesis', 'Camel']\n"
       ]
      }
     ],
     "prompt_number": 11
    },
    {
     "cell_type": "markdown",
     "metadata": {},
     "source": [
      "A fun\u00e7\u00e3o `enumerate()` retorna uma tupla de dois elementos a cada itera\u00e7\u00e3o: um n\u00famero sequencial e um item da sequ\u00eancia correspondente.\n",
      "\n",
      "A lista possui o m\u00e9todo `pop()` que facilita a implementa\u00e7\u00e3o de filas e pilhas:"
     ]
    },
    {
     "cell_type": "code",
     "collapsed": false,
     "input": [
      "lista = ['A', 'B', 'C']\n",
      "print 'lista:', lista\n",
      "\n",
      "# A lista vazia \u00e9 avaliada como falsa\n",
      "while lista:\n",
      "    # Em filas, o primeiro item \u00e9 o primeiro a sair\n",
      "    # pop(0) remove e retorna o primeiro item\n",
      "    print 'Saiu', lista.pop(0), ', faltam', len(lista)\n",
      "\n",
      "# Mais itens na lista\n",
      "lista += ['D', 'E', 'F']\n",
      "print 'lista:', lista\n",
      "\n",
      "while lista:\n",
      "    # Em pilhas, o primeiro item \u00e9 o \u00faltimo a sair\n",
      "    # pop() remove e retorna o \u00faltimo item\n",
      "    print 'Saiu', lista.pop(), ', faltam', len(lista)"
     ],
     "language": "python",
     "metadata": {},
     "outputs": [
      {
       "output_type": "stream",
       "stream": "stdout",
       "text": [
        "lista: ['A', 'B', 'C']\n",
        "Saiu A , faltam 2\n",
        "Saiu B , faltam 1\n",
        "Saiu C , faltam 0\n",
        "lista: ['D', 'E', 'F']\n",
        "Saiu F , faltam 2\n",
        "Saiu E , faltam 1\n",
        "Saiu D , faltam 0\n"
       ]
      }
     ],
     "prompt_number": 12
    },
    {
     "cell_type": "markdown",
     "metadata": {},
     "source": [
      "As opera\u00e7\u00f5es de ordena\u00e7\u00e3o (*sort*) e invers\u00e3o (*reverse*) s\u00e3o realizadas na pr\u00f3pria lista, sendo assim, n\u00e3o geram novas listas.\n",
      "\n",
      "Tuplas\n",
      "------\n",
      "Semelhantes as listas, por\u00e9m s\u00e3o imut\u00e1veis: n\u00e3o se pode acrescentar, apagar ou fazer atribui\u00e7\u00f5es aos itens.\n",
      "\n",
      "Sintaxe:\n",
      "\n",
      "    tupla = (a, b, ..., z)\n",
      "\n",
      "Os par\u00eanteses s\u00e3o opcionais.\n",
      "\n",
      "Particularidade: tupla com apenas um elemento \u00e9 representada como:\n",
      "\n",
      "    t1 = (1,)\n",
      "\n",
      "Os elementos de uma tupla podem ser referenciados da mesma forma que os elementos de uma lista:\n",
      "\n",
      "    primeiro_elemento = tupla[0]\n",
      "\n",
      "Listas podem ser convertidas em tuplas:\n",
      "\n",
      "    tupla = tuple(lista)\n",
      "\n",
      "E tuplas podem ser convertidas em listas:\n",
      "\n",
      "    lista = list(tupla)\n",
      "\n",
      "Embora a tupla possa conter elementos mut\u00e1veis, esses elementos n\u00e3o podem sofrer atribui\u00e7\u00e3o, pois isto modificaria a refer\u00eancia ao objeto.\n",
      "\n",
      "Exemplo (usando o modo interativo):\n",
      "\n",
      "    >>> t = ([1, 2], 4)\n",
      "    >>> t[0].append(3)\n",
      "    >>> t\n",
      "    ([1, 2, 3], 4)\n",
      "    >>> t[0] = [1, 2, 3]\n",
      "    Traceback (most recent call last):\n",
      "      File \"<input>\", line 1, in ?\n",
      "    TypeError: object does not support item assignment\n",
      "    >>>\n",
      "\n",
      "As tuplas s\u00e3o mais eficientes do que as listas convencionais, pois consomem menos recursos computacionais (mem\u00f3ria), por serem estruturas mais simples, tal como as strings imut\u00e1veis em rela\u00e7\u00e3o \u00e0s *strings* mut\u00e1veis.\n",
      "\n",
      "Outros tipos de sequ\u00eancias\n",
      "--------------------------\n",
      "O Python prov\u00ea entre os *builtins* tamb\u00e9m:\n",
      "\n",
      "+ *set*: sequ\u00eancia mut\u00e1vel un\u00edvoca (sem repeti\u00e7\u00f5es) n\u00e3o ordenada.\n",
      "+ *frozenset*: sequ\u00eancia imut\u00e1vel un\u00edvoca n\u00e3o ordenada.\n",
      "\n",
      "Os dois tipos implementam opera\u00e7\u00f5es de conjuntos, tais como: uni\u00e3o, interse\u00e7\u00e3o e diferen\u00e7a.\n",
      "\n",
      "Exemplo:"
     ]
    },
    {
     "cell_type": "code",
     "collapsed": false,
     "input": [
      "# Conjuntos de dados\n",
      "s1 = set(range(3))\n",
      "s2 = set(range(10, 7, -1))\n",
      "s3 = set(range(2, 10, 2))\n",
      "\n",
      "# Exibe os dados\n",
      "print 's1:', s1, '\\ns2:', s2, '\\ns3:', s3\n",
      "\n",
      "# Uni\u00e3o\n",
      "s1s2 = s1.union(s2)\n",
      "print 'Uni\u00e3o de s1 e s2:', s1s2\n",
      "\n",
      "# Diferen\u00e7a\n",
      "print 'Diferen\u00e7a com s3:', s1s2.difference(s3)\n",
      "\n",
      "# Interse\u00e7\u00e3o\n",
      "print 'Interse\u00e7\u00e3o com s3:', s1s2.intersection(s3)\n",
      "\n",
      "# Testa se um set inclui outro\n",
      "if s1.issuperset([1, 2]):\n",
      "    print 's1 inclui 1 e 2'\n",
      "\n",
      "# Testa se n\u00e3o existe elementos em comum\n",
      "if s1.isdisjoint(s2):\n",
      "    print 's1 e s2 n\u00e3o tem elementos em comum'"
     ],
     "language": "python",
     "metadata": {},
     "outputs": [
      {
       "output_type": "stream",
       "stream": "stdout",
       "text": [
        "s1: set([0, 1, 2]) \n",
        "s2: set([8, 9, 10]) \n",
        "s3: set([8, 2, 4, 6])\n",
        "Uni\u00e3o de s1 e s2: set([0, 1, 2, 8, 9, 10])\n",
        "Diferen\u00e7a com s3: set([0, 1, 10, 9])\n",
        "Interse\u00e7\u00e3o com s3: set([8, 2])\n",
        "s1 inclui 1 e 2\n",
        "s1 e s2 n\u00e3o tem elementos em comum\n"
       ]
      }
     ],
     "prompt_number": 14
    },
    {
     "cell_type": "markdown",
     "metadata": {},
     "source": [
      "Quando uma lista \u00e9 convertida para *set*, as repeti\u00e7\u00f5es s\u00e3o descartadas.\n",
      "\n",
      "Na vers\u00e3o 2.6, tamb\u00e9m est\u00e1 dispon\u00edvel um tipo *builtin* de lista mut\u00e1vel de caracteres, chamado *bytearray*.\n",
      "\n",
      "Dicion\u00e1rios\n",
      "-----------\n",
      "Um dicion\u00e1rio \u00e9 uma lista de associa\u00e7\u00f5es compostas por uma chave \u00fanica e estruturas correspondentes. Dicion\u00e1rios s\u00e3o mut\u00e1veis, tais como as listas.\n",
      "\n",
      "A chave precisa ser de um tipo imut\u00e1vel, geralmente s\u00e3o usadas *strings*, mas tamb\u00e9m podem ser tuplas ou tipos num\u00e9ricos. J\u00e1 os itens dos dicion\u00e1rios podem ser tanto mut\u00e1veis quanto imut\u00e1veis. O dicion\u00e1rio do Python n\u00e3o fornece garantia de que as chaves estar\u00e3o ordenadas.\n",
      "\n",
      "Sintaxe:\n",
      "\n",
      "dicionario = {'a': a, 'b': b, ..., 'z': z}\n",
      "\n",
      "Estrutura:\n",
      "\n",
      "![Estrutura de um dicion\u00e1rio](files/bpypd_diags5.png)\n",
      "\n",
      "Exemplo de dicion\u00e1rio:\n",
      "\n",
      "    dic = {'nome': 'Shirley Manson', 'banda': 'Garbage'}\n",
      "\n",
      "Acessando elementos:\n",
      "\n",
      "    print dic['nome']\n",
      "\n",
      "Adicionando elementos:\n",
      "\n",
      "    dic['album'] = 'Version 2.0'\n",
      "\n",
      "Apagando um elemento do dicion\u00e1rio:\n",
      "\n",
      "    del dic['album']\n",
      "\n",
      "Obtendo os itens, chaves e valores:\n",
      "\n",
      "    itens = dic.items()\n",
      "    chaves = dic.keys()\n",
      "    valores = dic.values()\n",
      "\n",
      "Exemplos com dicion\u00e1rios:"
     ]
    },
    {
     "cell_type": "code",
     "collapsed": false,
     "input": [
      "# Progs e seus albuns\n",
      "progs = {'Yes': ['Close To The Edge', 'Fragile'],\n",
      "    'Genesis': ['Foxtrot', 'The Nursery Crime'],\n",
      "    'ELP': ['Brain Salad Surgery']}\n",
      "\n",
      "# Mais progs\n",
      "progs['King Crimson'] = ['Red', 'Discipline']\n",
      "\n",
      "# items() retorna uma lista de\n",
      "# tuplas com a chave e o valor\n",
      "for prog, albuns in progs.items():\n",
      "    print prog, '=>', albuns\n",
      "\n",
      "# Se tiver 'ELP', deleta\n",
      "if progs.has_key('ELP'):\n",
      "    del progs['ELP']"
     ],
     "language": "python",
     "metadata": {},
     "outputs": [
      {
       "output_type": "stream",
       "stream": "stdout",
       "text": [
        "Yes => ['Close To The Edge', 'Fragile']\n",
        "ELP => ['Brain Salad Surgery']\n",
        "Genesis => ['Foxtrot', 'The Nursery Crime']\n",
        "King Crimson => ['Red', 'Discipline']\n"
       ]
      }
     ],
     "prompt_number": 15
    },
    {
     "cell_type": "markdown",
     "metadata": {},
     "source": [
      "Exemplo de matriz esparsa:"
     ]
    },
    {
     "cell_type": "code",
     "collapsed": false,
     "input": [
      "# Matriz esparsa implementada\n",
      "# com dicion\u00e1rio\n",
      "\n",
      "# Matriz esparsa \u00e9 uma estrutura\n",
      "# que s\u00f3 armazena os valores que\n",
      "# existem na matriz\n",
      "\n",
      "dim = 6, 12\n",
      "mat = {}\n",
      "\n",
      "# Tuplas s\u00e3o imut\u00e1veis\n",
      "# Cada tupla representa\n",
      "# uma posi\u00e7\u00e3o na matriz\n",
      "mat[3, 7] = 3\n",
      "mat[4, 6] = 5\n",
      "mat[6, 3] = 7\n",
      "mat[5, 4] = 6\n",
      "mat[2, 9] = 4\n",
      "mat[1, 0] = 9\n",
      "\n",
      "for lin in range(dim[0]):\n",
      "    for col in range(dim[1]):\n",
      "        # M\u00e9todo get(chave, valor)\n",
      "        # retorna o valor da chave\n",
      "        # no dicion\u00e1rio ou se a chave\n",
      "        # n\u00e3o existir, retorna o\n",
      "        # segundo argumento\n",
      "        print mat.get((lin, col), 0),\n",
      "    print"
     ],
     "language": "python",
     "metadata": {},
     "outputs": [
      {
       "output_type": "stream",
       "stream": "stdout",
       "text": [
        "0 0 0 0 0 0 0 0 0 0 0 0\n",
        "9 0 0 0 0 0 0 0 0 0 0 0\n",
        "0 0 0 0 0 0 0 0 0 4 0 0\n",
        "0 0 0 0 0 0 0 3 0 0 0 0\n",
        "0 0 0 0 0 0 5 0 0 0 0 0\n",
        "0 0 0 0 6 0 0 0 0 0 0 0\n"
       ]
      }
     ],
     "prompt_number": 17
    },
    {
     "cell_type": "markdown",
     "metadata": {},
     "source": [
      "Gerando a matriz esparsa:"
     ]
    },
    {
     "cell_type": "code",
     "collapsed": false,
     "input": [
      "# Matriz em forma de string\n",
      "matriz = '''0 0 0 0 0 0 0 0 0 0 0 0\n",
      "9 0 0 0 0 0 0 0 0 0 0 0\n",
      "0 0 0 0 0 0 0 0 0 4 0 0\n",
      "0 0 0 0 0 0 0 3 0 0 0 0\n",
      "0 0 0 0 0 0 5 0 0 0 0 0\n",
      "0 0 0 0 6 0 0 0 0 0 0 0'''\n",
      "\n",
      "mat = {}\n",
      "\n",
      "# Quebra a matriz em linhas\n",
      "for lin, linha in enumerate(matriz.splitlines()):\n",
      "\n",
      "    # Quebra a linha em colunas\n",
      "    for col, coluna in enumerate(linha.split()):\n",
      "\n",
      "        coluna = int(coluna)\n",
      "        # Coloca a coluna no resultado,\n",
      "        # se for diferente de zero\n",
      "        if coluna:\n",
      "            mat[lin, col] = coluna\n",
      "\n",
      "print mat\n",
      "# Some um nas dimens\u00f5es pois a contagem come\u00e7a em zero\n",
      "print 'Tamanho da matriz completa:', (lin + 1) * (col + 1)\n",
      "print 'Tamanho da matriz esparsa:', len(mat)"
     ],
     "language": "python",
     "metadata": {},
     "outputs": [
      {
       "output_type": "stream",
       "stream": "stdout",
       "text": [
        "{(5, 4): 6, (3, 7): 3, (1, 0): 9, (4, 6): 5, (2, 9): 4}\n",
        "Tamanho da matriz completa: 72\n",
        "Tamanho da matriz esparsa: 5\n"
       ]
      }
     ],
     "prompt_number": 19
    },
    {
     "cell_type": "markdown",
     "metadata": {},
     "source": [
      "A matriz esparsa \u00e9 uma boa solu\u00e7\u00e3o de processamento para estruturas em que a maioria dos itens permanecem vazios, como planilhas, por exemplo.\n",
      "\n",
      "Verdadeiro, falso e nulo\n",
      "------------------------\n",
      "Em Python, o tipo booleano (*bool*) \u00e9 uma especializa\u00e7\u00e3o do tipo inteiro (*int*). O verdadeiro \u00e9 chamado *True* e \u00e9 igual a 1, enquanto o falso \u00e9 chamado *False* e \u00e9 igual a zero.\n",
      "\n",
      "Os seguintes valores s\u00e3o considerados falsos:\n",
      "\n",
      "+ *False* (falso).\n",
      "+ *None* (nulo).\n",
      "+ 0 (zero).\n",
      "+ '' (string vazia).\n",
      "+ [] (lista vazia).\n",
      "+ () (tupla vazia).\n",
      "+ {} (dicion\u00e1rio vazio).\n",
      "+ Outras estruturas com o tamanho igual a zero.\n",
      "\n",
      "S\u00e3o considerados verdadeiros todos os outros objetos fora dessa lista.\n",
      "\n",
      "O objeto *None*, que \u00e9 do tipo *NoneType*, do Python representa o nulo e \u00e9 avaliado como falso pelo interpretador.\n",
      "\n",
      "Operadores booleanos\n",
      "--------------------\n",
      "Com operadores l\u00f3gicos \u00e9 poss\u00edvel construir condi\u00e7\u00f5es mais complexas para controlar desvios condicionais e la\u00e7os.\n",
      "\n",
      "Os operadores booleanos no Python s\u00e3o: *and*, *or*, *not*, *is* e *in*.\n",
      "\n",
      "+ *and*: retorna um valor verdadeiro se e somente se receber duas express\u00f5es que forem verdadeiras.\n",
      "+ *or*: retorna um valor falso se e somente se receber duas express\u00f5es que forem falsas.\n",
      "+ *not*: retorna falso se receber uma express\u00e3o verdadeira e vice-versa.\n",
      "+ *is*: retorna verdadeiro se receber duas refer\u00eancias ao mesmo objeto e falso em caso contr\u00e1rio.\n",
      "+ *in*: retorna verdadeiro se receber um item e uma lista e o item ocorrer uma ou mais vezes na lista e falso em caso contr\u00e1rio.\n",
      "\n",
      "O c\u00e1lculo do valor resultante na opera\u00e7\u00e3o *and* ocorre da seguinte forma: se a primeira express\u00e3o for verdadeira, o resultado ser\u00e1 a segunda express\u00e3o, sen\u00e3o ser\u00e1 a primeira. J\u00e1 para o operador *or*, se a primeira express\u00e3o for falsa, o resultado ser\u00e1 a segunda express\u00e3o, sen\u00e3o ser\u00e1 a primeira. Para os outros operadores, o retorno ser\u00e1 do tipo *bool* (*True* ou *False*).\n",
      "\n",
      "Exemplos:"
     ]
    },
    {
     "cell_type": "code",
     "collapsed": false,
     "input": [
      "print 0 and 3 # Mostra 0\n",
      "print 2 and 3 # Mostra 3\n",
      "\n",
      "print 0 or 3 # Mostra 3\n",
      "print 2 or 3 # Mostra 2\n",
      "\n",
      "print not 0 # Mostra True\n",
      "print not 2 # Mostra False\n",
      "print 2 in (2, 3) # Mostra True\n",
      "print 2 is 3 # Mostra False"
     ],
     "language": "python",
     "metadata": {},
     "outputs": [
      {
       "output_type": "stream",
       "stream": "stdout",
       "text": [
        "0\n",
        "3\n",
        "3\n",
        "2\n",
        "True\n",
        "False\n",
        "True\n",
        "False\n"
       ]
      }
     ],
     "prompt_number": 20
    },
    {
     "cell_type": "markdown",
     "metadata": {},
     "source": [
      "Al\u00e9m dos operadores booleanos, existem as fun\u00e7\u00f5es `all()`, que retorna verdadeiro quando todos os itens forem verdadeiros na sequ\u00eancia usada como par\u00e2metro, e `any()`, que retorna verdadeiro se algum item o for."
     ]
    },
    {
     "cell_type": "code",
     "collapsed": false,
     "input": [],
     "language": "python",
     "metadata": {},
     "outputs": [
      {
       "html": [
        "<style>\n",
        "    @font-face {\n",
        "        font-family: \"Computer Modern\";\n",
        "        src: url('http://mirrors.ctan.org/fonts/cm-unicode/fonts/otf/cmunss.otf');\n",
        "    }\n",
        "    div.cell{\n",
        "        width:800px;\n",
        "        margin-left:16% !important;\n",
        "        margin-right:auto;\n",
        "    }\n",
        "    h1 {\n",
        "        font-family: Helvetica, serif;\n",
        "    }\n",
        "    h4{\n",
        "        margin-top:12px;\n",
        "        margin-bottom: 3px;\n",
        "       }\n",
        "    div.text_cell_render{\n",
        "        font-family: Computer Modern, \"Helvetica Neue\", Arial, Helvetica, Geneva, sans-serif;\n",
        "        line-height: 145%;\n",
        "        font-size: 130%;\n",
        "        width:800px;\n",
        "        margin-left:auto;\n",
        "        margin-right:auto;\n",
        "    }\n",
        "    .CodeMirror{\n",
        "            font-family: \"Source Code Pro\", source-code-pro,Consolas, monospace;\n",
        "    }\n",
        "    .note{\n",
        "            border-bottom: 1px black dotted;\n",
        "    }\n",
        "    .prompt{\n",
        "        display: None;\n",
        "    }\n",
        "    .text_cell_render h5 {\n",
        "        font-weight: 300;\n",
        "        font-size: 16pt;\n",
        "        color: #4057A1;\n",
        "        font-style: italic;\n",
        "        margin-bottom: .5em;\n",
        "        margin-top: 0.5em;\n",
        "        display: block;\n",
        "    }\n",
        "    \n",
        "    .warning{\n",
        "        color: rgb( 240, 20, 20 )\n",
        "        }  \n",
        "</style>\n",
        "<script>\n",
        "    MathJax.Hub.Config({\n",
        "                        TeX: {\n",
        "                           extensions: [\"AMSmath.js\"]\n",
        "                           },\n",
        "                tex2jax: {\n",
        "                    inlineMath: [ ['$','$'], [\"\\\\(\",\"\\\\)\"] ],\n",
        "                    displayMath: [ ['$$','$$'], [\"\\\\[\",\"\\\\]\"] ]\n",
        "                },\n",
        "                displayAlign: 'center', // Change this to 'center' to center equations.\n",
        "                \"HTML-CSS\": {\n",
        "                    styles: {'.MathJax_Display': {\"margin\": 4}}\n",
        "                }\n",
        "        });\n",
        "</script>"
       ],
       "metadata": {},
       "output_type": "pyout",
       "prompt_number": 1,
       "text": [
        "<IPython.core.display.HTML at 0x50f8f98>"
       ]
      }
     ],
     "prompt_number": 1
    }
   ],
   "metadata": {}
  }
 ]
}
