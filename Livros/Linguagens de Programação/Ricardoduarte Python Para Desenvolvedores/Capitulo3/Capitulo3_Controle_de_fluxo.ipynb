{
 "metadata": {
  "name": "Capitulo3_Controle_de_fluxo"
 },
 "nbformat": 3,
 "nbformat_minor": 0,
 "worksheets": [
  {
   "cells": [
    {
     "cell_type": "markdown",
     "metadata": {},
     "source": [
      "[Python para Desenvolvedores](http://ricardoduarte.github.io/python-para-desenvolvedores/#conteudo)\n",
      "===================================\n",
      "2&ordf; edi\u00e7\u00e3o, revisada e ampliada\n",
      "-----------------------------------\n",
      "\n",
      "Cap\u00edtulo 3: Controle de fluxo\n",
      "=============================\n",
      "_____________________________\n",
      "\u00c9 muito comum em um programa que certos conjuntos de instru\u00e7\u00f5es sejam executados de forma condicional, em casos como validar entradas de dados, por exemplo.\n",
      "\n",
      "Sintaxe:\n",
      "\n",
      "    if <condi\u00e7\u00e3o>:\n",
      "        <bloco de c\u00f3digo>\n",
      "    elif <condi\u00e7\u00e3o>:\n",
      "        <bloco de c\u00f3digo>\n",
      "    elif <condi\u00e7\u00e3o>:\n",
      "        <bloco de c\u00f3digo>\n",
      "    else:\n",
      "        <bloco de c\u00f3digo>\n",
      "\n",
      "Na qual:\n",
      "\n",
      "+ `<condi\u00e7\u00e3o>`: senten\u00e7a que possa ser avaliada como verdadeira ou falsa.\n",
      "+ `<bloco de c\u00f3digo>`: sequ\u00eancia de linhas de comando.\n",
      "+ As clausulas `elif` e `else` s\u00e3o opcionais e podem existir v\u00e1rios `elifs` para o mesmo `if`, por\u00e9m apenas um else ao final.\n",
      "+ Par\u00eanteses s\u00f3 s\u00e3o necess\u00e1rios para evitar ambiguidades.\n",
      "\n",
      "Exemplo:"
     ]
    },
    {
     "cell_type": "code",
     "collapsed": false,
     "input": [
      "temp = 23 # valor de temperatura usado para teste\n",
      "\n",
      "if temp < 0:\n",
      "    print 'Congelando...'\n",
      "elif 0 <= temp <= 20:\n",
      "    print 'Frio'\n",
      "elif 21 <= temp <= 25:\n",
      "    print 'Normal'\n",
      "elif 26 <= temp <= 35:\n",
      "    print 'Quente'\n",
      "else:\n",
      "    print 'Muito quente!'"
     ],
     "language": "python",
     "metadata": {},
     "outputs": [
      {
       "output_type": "stream",
       "stream": "stdout",
       "text": [
        "Normal\n"
       ]
      }
     ],
     "prompt_number": 3
    },
    {
     "cell_type": "markdown",
     "metadata": {},
     "source": [
      "Imagine que no programa acima, `23` \u00e9 a temperatura que foi lida de algum sensor ou entrada manualmente pelo usu\u00e1rio e `Normal` \u00e9 a resposta do programa.\n",
      "\n",
      "Se o bloco de c\u00f3digo for composto de apenas uma linha, ele pode ser escrito ap\u00f3s os dois pontos:\n",
      "\n",
      "    if temp < 0: print 'Congelando...'\n",
      "\n",
      "A partir da vers\u00e3o 2.5, o Python suporta a express\u00e3o:\n",
      "\n",
      "    <vari\u00e1vel> = <valor 1> if <condi\u00e7\u00e3o> else <valor 2>\n",
      "\n",
      "Na qual `<vari\u00e1vel>` receber\u00e1 `<valor 1>` se `<condi\u00e7\u00e3o>` for verdadeira e `<valor 2>`  caso contr\u00e1rio."
     ]
    },
    {
     "cell_type": "code",
     "collapsed": false,
     "input": [],
     "language": "python",
     "metadata": {},
     "outputs": [
      {
       "html": [
        "<style>\n",
        "    @font-face {\n",
        "        font-family: \"Computer Modern\";\n",
        "        src: url('http://mirrors.ctan.org/fonts/cm-unicode/fonts/otf/cmunss.otf');\n",
        "    }\n",
        "    div.cell{\n",
        "        width:800px;\n",
        "        margin-left:16% !important;\n",
        "        margin-right:auto;\n",
        "    }\n",
        "    h1 {\n",
        "        font-family: Helvetica, serif;\n",
        "    }\n",
        "    h4{\n",
        "        margin-top:12px;\n",
        "        margin-bottom: 3px;\n",
        "       }\n",
        "    div.text_cell_render{\n",
        "        font-family: Computer Modern, \"Helvetica Neue\", Arial, Helvetica, Geneva, sans-serif;\n",
        "        line-height: 145%;\n",
        "        font-size: 130%;\n",
        "        width:800px;\n",
        "        margin-left:auto;\n",
        "        margin-right:auto;\n",
        "    }\n",
        "    .CodeMirror{\n",
        "            font-family: \"Source Code Pro\", source-code-pro,Consolas, monospace;\n",
        "    }\n",
        "    .note{\n",
        "            border-bottom: 1px black dotted;\n",
        "    }\n",
        "    .prompt{\n",
        "        display: None;\n",
        "    }\n",
        "    .text_cell_render h5 {\n",
        "        font-weight: 300;\n",
        "        font-size: 16pt;\n",
        "        color: #4057A1;\n",
        "        font-style: italic;\n",
        "        margin-bottom: .5em;\n",
        "        margin-top: 0.5em;\n",
        "        display: block;\n",
        "    }\n",
        "    \n",
        "    .warning{\n",
        "        color: rgb( 240, 20, 20 )\n",
        "        }  \n",
        "</style>\n",
        "<script>\n",
        "    MathJax.Hub.Config({\n",
        "                        TeX: {\n",
        "                           extensions: [\"AMSmath.js\"]\n",
        "                           },\n",
        "                tex2jax: {\n",
        "                    inlineMath: [ ['$','$'], [\"\\\\(\",\"\\\\)\"] ],\n",
        "                    displayMath: [ ['$$','$$'], [\"\\\\[\",\"\\\\]\"] ]\n",
        "                },\n",
        "                displayAlign: 'center', // Change this to 'center' to center equations.\n",
        "                \"HTML-CSS\": {\n",
        "                    styles: {'.MathJax_Display': {\"margin\": 4}}\n",
        "                }\n",
        "        });\n",
        "</script>"
       ],
       "output_type": "pyout",
       "prompt_number": 1,
       "text": [
        "<IPython.core.display.HTML at 0x50f8f98>"
       ]
      }
     ],
     "prompt_number": 1
    }
   ],
   "metadata": {}
  }
 ]
}