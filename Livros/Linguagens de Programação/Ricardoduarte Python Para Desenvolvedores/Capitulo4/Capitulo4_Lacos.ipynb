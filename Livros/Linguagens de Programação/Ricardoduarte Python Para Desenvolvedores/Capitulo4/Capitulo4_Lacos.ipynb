{
 "metadata": {
  "name": "Capitulo4_Lacos"
 },
 "nbformat": 3,
 "nbformat_minor": 0,
 "worksheets": [
  {
   "cells": [
    {
     "cell_type": "markdown",
     "metadata": {},
     "source": [
      "[Python para Desenvolvedores](http://ricardoduarte.github.io/python-para-desenvolvedores/#conteudo)\n",
      "===================================\n",
      "2&ordf; edi\u00e7\u00e3o, revisada e ampliada\n",
      "-----------------------------------\n",
      "\n",
      "Cap\u00edtulo 4: La\u00e7os\n",
      "=============================\n",
      "_____________________________\n",
      "La\u00e7os (*loops*) s\u00e3o estruturas de repeti\u00e7\u00e3o, geralmente usados para processar cole\u00e7\u00f5es de dados, tais como linhas de um arquivo ou registros de um banco de dados, que precisam ser processados por um mesmo bloco de c\u00f3digo.\n",
      "\n",
      "For\n",
      "---\n",
      "\u00c9 a estrutura de repeti\u00e7\u00e3o mais usada no Python. A instru\u00e7\u00e3o aceita n\u00e3o s\u00f3 sequ\u00eancias est\u00e1ticas, mas tamb\u00e9m sequ\u00eancias geradas por iteradores. Iteradores s\u00e3o estruturas que permitem itera\u00e7\u00f5es, ou seja, acesso aos itens de uma cole\u00e7\u00e3o de elementos, de forma sequencial.\n",
      "\n",
      "![Exemplo de la\u00e7o](files/bpypd_diags3.png)\n",
      "\n",
      "Durante a execu\u00e7\u00e3o de um la\u00e7o *for*, a refer\u00eancia aponta para um elemento da sequ\u00eancia. A cada itera\u00e7\u00e3o, a refer\u00eancia \u00e9 atualizada, para que o bloco de c\u00f3digo do for processe o elemento correspondente.\n",
      "\n",
      "A clausula *break* interrompe o la\u00e7o e *continue* passa para a pr\u00f3xima itera\u00e7\u00e3o. O c\u00f3digo dentro do else \u00e9 executado ao final do la\u00e7o, a n\u00e3o ser que o la\u00e7o tenha sido interrompido por *break*.\n",
      "\n",
      "Sintaxe:\n",
      "\n",
      "    for <refer\u00eancia> in <sequ\u00eancia>:\n",
      "        <bloco de c\u00f3digo>\n",
      "        continue\n",
      "        break\n",
      "    else:\n",
      "        <bloco de c\u00f3digo>\n",
      "            \n",
      "Exemplo:"
     ]
    },
    {
     "cell_type": "code",
     "collapsed": false,
     "input": [
      "# Soma de 0 a 99\n",
      "s = 0\n",
      "for x in range(1, 100):\n",
      "    s = s + x\n",
      "print s"
     ],
     "language": "python",
     "metadata": {},
     "outputs": [
      {
       "output_type": "stream",
       "stream": "stdout",
       "text": [
        "4950\n"
       ]
      }
     ],
     "prompt_number": 1
    },
    {
     "cell_type": "markdown",
     "metadata": {},
     "source": [
      "A fun\u00e7\u00e3o `range(m, n, p)`, \u00e9 muito \u00fatil em la\u00e7os, pois retorna uma lista de inteiros, come\u00e7ando em `m` e menores que `n`, em passos de comprimento `p`, que podem ser usados como sequ\u00eancia para o la\u00e7o.\n",
      "\n",
      "While\n",
      "-----\n",
      "Executa um bloco de c\u00f3digo atendendo a uma condi\u00e7\u00e3o.\n",
      "\n",
      "Sintaxe:\n",
      "\n",
      "    while <condi\u00e7\u00e3o>:\n",
      "        <bloco de c\u00f3digo>\n",
      "        continue\n",
      "        break\n",
      "    else:\n",
      "        <bloco de c\u00f3digo>\n",
      "            \n",
      "O bloco de c\u00f3digo dentro do la\u00e7o *while* \u00e9 repetido enquanto a condi\u00e7\u00e3o do la\u00e7o estiver sendo avaliada como verdadeira.\n",
      "            \n",
      "Exemplo:"
     ]
    },
    {
     "cell_type": "code",
     "collapsed": false,
     "input": [
      "# Soma de 0 a 99\n",
      "s = 0\n",
      "x = 1\n",
      "\n",
      "while x < 100:\n",
      "    s = s + x\n",
      "    x = x + 1\n",
      "print s"
     ],
     "language": "python",
     "metadata": {},
     "outputs": [
      {
       "output_type": "stream",
       "stream": "stdout",
       "text": [
        "4950\n"
       ]
      }
     ],
     "prompt_number": 2
    },
    {
     "cell_type": "markdown",
     "metadata": {},
     "source": [
      "O la\u00e7o *while* \u00e9 adequado quando n\u00e3o h\u00e1 como determinar quantas itera\u00e7\u00f5es v\u00e3o ocorrer e n\u00e3o h\u00e1 uma sequ\u00eancia a seguir."
     ]
    },
    {
     "cell_type": "code",
     "collapsed": false,
     "input": [],
     "language": "python",
     "metadata": {},
     "outputs": [
      {
       "html": [
        "<style>\n",
        "    @font-face {\n",
        "        font-family: \"Computer Modern\";\n",
        "        src: url('http://mirrors.ctan.org/fonts/cm-unicode/fonts/otf/cmunss.otf');\n",
        "    }\n",
        "    div.cell{\n",
        "        width:800px;\n",
        "        margin-left:16% !important;\n",
        "        margin-right:auto;\n",
        "    }\n",
        "    h1 {\n",
        "        font-family: Helvetica, serif;\n",
        "    }\n",
        "    h4{\n",
        "        margin-top:12px;\n",
        "        margin-bottom: 3px;\n",
        "       }\n",
        "    div.text_cell_render{\n",
        "        font-family: Computer Modern, \"Helvetica Neue\", Arial, Helvetica, Geneva, sans-serif;\n",
        "        line-height: 145%;\n",
        "        font-size: 130%;\n",
        "        width:800px;\n",
        "        margin-left:auto;\n",
        "        margin-right:auto;\n",
        "    }\n",
        "    .CodeMirror{\n",
        "            font-family: \"Source Code Pro\", source-code-pro,Consolas, monospace;\n",
        "    }\n",
        "    .note{\n",
        "            border-bottom: 1px black dotted;\n",
        "    }\n",
        "    .prompt{\n",
        "        display: None;\n",
        "    }\n",
        "    .text_cell_render h5 {\n",
        "        font-weight: 300;\n",
        "        font-size: 16pt;\n",
        "        color: #4057A1;\n",
        "        font-style: italic;\n",
        "        margin-bottom: .5em;\n",
        "        margin-top: 0.5em;\n",
        "        display: block;\n",
        "    }\n",
        "    \n",
        "    .warning{\n",
        "        color: rgb( 240, 20, 20 )\n",
        "        }  \n",
        "</style>\n",
        "<script>\n",
        "    MathJax.Hub.Config({\n",
        "                        TeX: {\n",
        "                           extensions: [\"AMSmath.js\"]\n",
        "                           },\n",
        "                tex2jax: {\n",
        "                    inlineMath: [ ['$','$'], [\"\\\\(\",\"\\\\)\"] ],\n",
        "                    displayMath: [ ['$$','$$'], [\"\\\\[\",\"\\\\]\"] ]\n",
        "                },\n",
        "                displayAlign: 'center', // Change this to 'center' to center equations.\n",
        "                \"HTML-CSS\": {\n",
        "                    styles: {'.MathJax_Display': {\"margin\": 4}}\n",
        "                }\n",
        "        });\n",
        "</script>"
       ],
       "output_type": "pyout",
       "prompt_number": 1,
       "text": [
        "<IPython.core.display.HTML at 0x50f8f98>"
       ]
      }
     ],
     "prompt_number": 1
    }
   ],
   "metadata": {}
  }
 ]
}