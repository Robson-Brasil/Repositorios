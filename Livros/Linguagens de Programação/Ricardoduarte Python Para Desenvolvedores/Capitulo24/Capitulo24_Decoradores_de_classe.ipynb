{
 "metadata": {
  "name": "Capitulo24_Decoradores_de_classe"
 },
 "nbformat": 3,
 "nbformat_minor": 0,
 "worksheets": [
  {
   "cells": [
    {
     "cell_type": "markdown",
     "metadata": {},
     "source": [
      "[Python para Desenvolvedores](http://ricardoduarte.github.io/python-para-desenvolvedores/#conteudo)\n",
      "===================================\n",
      "2&ordf; edi\u00e7\u00e3o, revisada e ampliada\n",
      "-----------------------------------\n",
      "\n",
      "Cap\u00edtulo 24: Decoradores de classe\n",
      "=============================\n",
      "_____________________________\n",
      "A partir da vers\u00e3o 2.6, os decoradores podem ser aplicados em classes.\n",
      "\n",
      "Exemplo:"
     ]
    },
    {
     "cell_type": "code",
     "collapsed": false,
     "input": [
      "import time\n",
      "\n",
      "def logger(cls):\n",
      "    \"\"\"\n",
      "    Fun\u00e7\u00e3o decoradora de classes\n",
      "    \"\"\"\n",
      "\n",
      "    class Logged(cls):\n",
      "        \"\"\"\n",
      "        Classe derivada que mostra os par\u00e2metros de inicializa\u00e7\u00e3o\n",
      "        \"\"\"\n",
      "\n",
      "        def __init__(self, *args, **kargs):\n",
      "\n",
      "            print 'Hora:', time.asctime()\n",
      "            print 'Classe:', repr(cls)\n",
      "            print 'args:', args\n",
      "            print 'kargs:', kargs\n",
      "            \n",
      "            # Executa a inicializa\u00e7\u00e3o da classe antiga\n",
      "            cls.__init__(self, *args, **kargs)\n",
      "\n",
      "    # Retorna a nova classe\n",
      "    return Logged\n",
      "\n",
      "\n",
      "@logger\n",
      "class Musica(object):\n",
      "\n",
      "    def __init__(self, nome, artista, album):\n",
      "\n",
      "        self.nome = nome\n",
      "        self.artista = artista\n",
      "        self.album = album\n",
      "\n",
      "\n",
      "m = Musica('Hand of Doom', 'Black Sabbath', album='Paranoid')"
     ],
     "language": "python",
     "metadata": {},
     "outputs": [
      {
       "output_type": "stream",
       "stream": "stdout",
       "text": [
        "Hora: Tue Jul 30 13:40:50 2013\n",
        "Classe: <class '__main__.Musica'>\n",
        "args: ('Hand of Doom', 'Black Sabbath')\n",
        "kargs: {'album': 'Paranoid'}\n"
       ]
      }
     ],
     "prompt_number": 1
    },
    {
     "cell_type": "markdown",
     "metadata": {},
     "source": [
      "Com isso, o decorador mudou o comportamento da classe."
     ]
    },
    {
     "cell_type": "code",
     "collapsed": false,
     "input": [],
     "language": "python",
     "metadata": {},
     "outputs": [
      {
       "html": [
        "<style>\n",
        "    @font-face {\n",
        "        font-family: \"Computer Modern\";\n",
        "        src: url('http://mirrors.ctan.org/fonts/cm-unicode/fonts/otf/cmunss.otf');\n",
        "    }\n",
        "    div.cell{\n",
        "        width:800px;\n",
        "        margin-left:16% !important;\n",
        "        margin-right:auto;\n",
        "    }\n",
        "    h1 {\n",
        "        font-family: Helvetica, serif;\n",
        "    }\n",
        "    h4{\n",
        "        margin-top:12px;\n",
        "        margin-bottom: 3px;\n",
        "       }\n",
        "    div.text_cell_render{\n",
        "        font-family: Computer Modern, \"Helvetica Neue\", Arial, Helvetica, Geneva, sans-serif;\n",
        "        line-height: 145%;\n",
        "        font-size: 130%;\n",
        "        width:800px;\n",
        "        margin-left:auto;\n",
        "        margin-right:auto;\n",
        "    }\n",
        "    .CodeMirror{\n",
        "            font-family: \"Source Code Pro\", source-code-pro,Consolas, monospace;\n",
        "    }\n",
        "    .note{\n",
        "            border-bottom: 1px black dotted;\n",
        "    }\n",
        "    .prompt{\n",
        "        display: None;\n",
        "    }\n",
        "    .text_cell_render h5 {\n",
        "        font-weight: 300;\n",
        "        font-size: 16pt;\n",
        "        color: #4057A1;\n",
        "        font-style: italic;\n",
        "        margin-bottom: .5em;\n",
        "        margin-top: 0.5em;\n",
        "        display: block;\n",
        "    }\n",
        "    \n",
        "    .warning{\n",
        "        color: rgb( 240, 20, 20 )\n",
        "        }  \n",
        "</style>\n",
        "<script>\n",
        "    MathJax.Hub.Config({\n",
        "                        TeX: {\n",
        "                           extensions: [\"AMSmath.js\"]\n",
        "                           },\n",
        "                tex2jax: {\n",
        "                    inlineMath: [ ['$','$'], [\"\\\\(\",\"\\\\)\"] ],\n",
        "                    displayMath: [ ['$$','$$'], [\"\\\\[\",\"\\\\]\"] ]\n",
        "                },\n",
        "                displayAlign: 'center', // Change this to 'center' to center equations.\n",
        "                \"HTML-CSS\": {\n",
        "                    styles: {'.MathJax_Display': {\"margin\": 4}}\n",
        "                }\n",
        "        });\n",
        "</script>"
       ],
       "output_type": "pyout",
       "prompt_number": 1,
       "text": [
        "<IPython.core.display.HTML at 0x50f8f98>"
       ]
      }
     ],
     "prompt_number": 1
    }
   ],
   "metadata": {}
  }
 ]
}