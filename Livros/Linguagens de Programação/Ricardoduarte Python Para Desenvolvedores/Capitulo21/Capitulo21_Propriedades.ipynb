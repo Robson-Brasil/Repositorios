{
 "metadata": {
  "name": "Capitulo21_Propriedades"
 },
 "nbformat": 3,
 "nbformat_minor": 0,
 "worksheets": [
  {
   "cells": [
    {
     "cell_type": "markdown",
     "metadata": {},
     "source": [
      "[Python para Desenvolvedores](http://ricardoduarte.github.io/python-para-desenvolvedores/#conteudo)\n",
      "===================================\n",
      "2&ordf; edi\u00e7\u00e3o, revisada e ampliada\n",
      "-----------------------------------\n",
      "\n",
      "Cap\u00edtulo 21: Propriedades\n",
      "=============================\n",
      "_____________________________\n",
      "Propriedades (*properties*) s\u00e3o atributos calculados em tempo de execu\u00e7\u00e3o. As propriedades s\u00e3o criadas atrav\u00e9s da fun\u00e7\u00e3o / decorador *property*.\n",
      "\n",
      "O uso de propriedades permite:\n",
      "\n",
      "+ Validar a entrada do atributo.\n",
      "+ Criar atributos apenas de leitura.\n",
      "+ Simplificar o uso da <span class=\"note\" title=\"As propriedades disfar\u00e7am as fun\u00e7\u00f5es get() e set() dos atributos.\">classe</span>.\n",
      "+ Mudar de um atributo convencional para uma propriedade sem a necessidade de alterar as aplica\u00e7\u00f5es que utilizam a classe.\n",
      "\n",
      "Exemplo de c\u00f3digo sem propriedades:"
     ]
    },
    {
     "cell_type": "code",
     "collapsed": false,
     "input": [
      "# get_*, set_*...\n",
      "\n",
      "\n",
      "class Projetil(object):\n",
      "\n",
      "    def __init__(self, alcance, tempo):\n",
      "\n",
      "        self.alcance = alcance\n",
      "        self.tempo = tempo\n",
      "\n",
      "    def get_velocidade(self):\n",
      "\n",
      "        return self.alcance / self.tempo\n",
      "\n",
      "\n",
      "moab = Projetil(alcance=10000, tempo=60)\n",
      "\n",
      "print moab.get_velocidade()"
     ],
     "language": "python",
     "metadata": {},
     "outputs": [
      {
       "output_type": "stream",
       "stream": "stdout",
       "text": [
        "166\n"
       ]
      }
     ],
     "prompt_number": 3
    },
    {
     "cell_type": "markdown",
     "metadata": {},
     "source": [
      "Exemplo de propriedade atrav\u00e9s de decorador:"
     ]
    },
    {
     "cell_type": "code",
     "collapsed": false,
     "input": [
      "# Exemplo de property de leitura\n",
      "\n",
      "\n",
      "class Projetil(object):\n",
      "\n",
      "    def __init__(self, alcance, tempo):\n",
      "\n",
      "        self.alcance = alcance\n",
      "        self.tempo = tempo\n",
      "\n",
      "    @property\n",
      "    def velocidade(self):\n",
      "\n",
      "        return self.alcance / self.tempo\n",
      "\n",
      "\n",
      "moab = Projetil(alcance=10000, tempo=60)\n",
      "\n",
      "# A velocidade \u00e9 calculada\n",
      "print moab.velocidade"
     ],
     "language": "python",
     "metadata": {},
     "outputs": [
      {
       "output_type": "stream",
       "stream": "stdout",
       "text": [
        "166\n"
       ]
      }
     ],
     "prompt_number": 4
    },
    {
     "cell_type": "markdown",
     "metadata": {},
     "source": [
      "Exemplo de propriedade atrav\u00e9s de chamada de fun\u00e7\u00e3o:"
     ]
    },
    {
     "cell_type": "code",
     "collapsed": false,
     "input": [
      "# Property de leitura e escrita\n",
      "\n",
      "\n",
      "class Projetil(object):\n",
      "\n",
      "    def __init__(self, alcance, tempo):\n",
      "\n",
      "        self.alcance = alcance\n",
      "        self.tempo = tempo\n",
      "\n",
      "    # Calcula a velocidade\n",
      "    def getv(self):\n",
      "\n",
      "        return self.alcance / self.tempo\n",
      "\n",
      "    # Calcula o tempo\n",
      "    def setv(self, v):\n",
      "\n",
      "        self.tempo = self.alcance / v\n",
      "\n",
      "    # Define a propriedade\n",
      "    velocidade = property(getv, setv)\n",
      "\n",
      "\n",
      "moab = Projetil(alcance=10000, tempo=60)\n",
      "print moab.velocidade\n",
      "\n",
      "# Muda a velocidade\n",
      "moab.velocidade = 350\n",
      "print moab.tempo"
     ],
     "language": "python",
     "metadata": {},
     "outputs": [
      {
       "output_type": "stream",
       "stream": "stdout",
       "text": [
        "166\n",
        "28\n"
       ]
      }
     ],
     "prompt_number": 5
    },
    {
     "cell_type": "markdown",
     "metadata": {},
     "source": [
      "Propriedades s\u00e3o particularmente interessantes para quem desenvolve bibliotecas para serem usadas por outras pessoas."
     ]
    },
    {
     "cell_type": "code",
     "collapsed": false,
     "input": [],
     "language": "python",
     "metadata": {},
     "outputs": [
      {
       "html": [
        "<style>\n",
        "    @font-face {\n",
        "        font-family: \"Computer Modern\";\n",
        "        src: url('http://mirrors.ctan.org/fonts/cm-unicode/fonts/otf/cmunss.otf');\n",
        "    }\n",
        "    div.cell{\n",
        "        width:800px;\n",
        "        margin-left:16% !important;\n",
        "        margin-right:auto;\n",
        "    }\n",
        "    h1 {\n",
        "        font-family: Helvetica, serif;\n",
        "    }\n",
        "    h4{\n",
        "        margin-top:12px;\n",
        "        margin-bottom: 3px;\n",
        "       }\n",
        "    div.text_cell_render{\n",
        "        font-family: Computer Modern, \"Helvetica Neue\", Arial, Helvetica, Geneva, sans-serif;\n",
        "        line-height: 145%;\n",
        "        font-size: 130%;\n",
        "        width:800px;\n",
        "        margin-left:auto;\n",
        "        margin-right:auto;\n",
        "    }\n",
        "    .CodeMirror{\n",
        "            font-family: \"Source Code Pro\", source-code-pro,Consolas, monospace;\n",
        "    }\n",
        "    .note{\n",
        "            border-bottom: 1px black dotted;\n",
        "    }\n",
        "    .prompt{\n",
        "        display: None;\n",
        "    }\n",
        "    .text_cell_render h5 {\n",
        "        font-weight: 300;\n",
        "        font-size: 16pt;\n",
        "        color: #4057A1;\n",
        "        font-style: italic;\n",
        "        margin-bottom: .5em;\n",
        "        margin-top: 0.5em;\n",
        "        display: block;\n",
        "    }\n",
        "    \n",
        "    .warning{\n",
        "        color: rgb( 240, 20, 20 )\n",
        "        }  \n",
        "</style>\n",
        "<script>\n",
        "    MathJax.Hub.Config({\n",
        "                        TeX: {\n",
        "                           extensions: [\"AMSmath.js\"]\n",
        "                           },\n",
        "                tex2jax: {\n",
        "                    inlineMath: [ ['$','$'], [\"\\\\(\",\"\\\\)\"] ],\n",
        "                    displayMath: [ ['$$','$$'], [\"\\\\[\",\"\\\\]\"] ]\n",
        "                },\n",
        "                displayAlign: 'center', // Change this to 'center' to center equations.\n",
        "                \"HTML-CSS\": {\n",
        "                    styles: {'.MathJax_Display': {\"margin\": 4}}\n",
        "                }\n",
        "        });\n",
        "</script>"
       ],
       "output_type": "pyout",
       "prompt_number": 1,
       "text": [
        "<IPython.core.display.HTML at 0x50f8f98>"
       ]
      }
     ],
     "prompt_number": 1
    }
   ],
   "metadata": {}
  }
 ]
}